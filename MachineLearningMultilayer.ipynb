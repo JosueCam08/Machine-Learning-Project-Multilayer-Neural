{
  "nbformat": 4,
  "nbformat_minor": 0,
  "metadata": {
    "colab": {
      "provenance": [],
      "collapsed_sections": [
        "jV9XRoMtRaIB",
        "zOWERxl9An-_",
        "bSNUAMqv7e2F",
        "9ivKs-yYSQGQ",
        "1Hqw-82UUor6",
        "WlvSYvNQXi4F",
        "yEADLwsqYpEB",
        "Xa2K3Xl4-DFu",
        "WKfiGyIn-XHG"
      ]
    },
    "kernelspec": {
      "name": "python3",
      "display_name": "Python 3"
    },
    "language_info": {
      "name": "python"
    }
  },
  "cells": [
    {
      "cell_type": "markdown",
      "source": [
        "# Tarea 04 | Josue Alexis Campos Negron\n"
      ],
      "metadata": {
        "id": "N9aFpcvvRUqN"
      }
    },
    {
      "cell_type": "markdown",
      "source": [
        "## Librerias\n"
      ],
      "metadata": {
        "id": "jV9XRoMtRaIB"
      }
    },
    {
      "cell_type": "code",
      "execution_count": null,
      "metadata": {
        "id": "Fj7UtcGIRR9o"
      },
      "outputs": [],
      "source": [
        "import numpy as np\n",
        "import math\n",
        "from numpy import linalg as LA\n",
        "import matplotlib.pyplot as plt\n",
        "import random"
      ]
    },
    {
      "cell_type": "markdown",
      "source": [
        "## Funciones utiles\n",
        "En esta seccion tenemos funciones que son de utilidad para la presentacion de resultados como la graficacion de los puntos, el MSE, la presicion entre otras cosas."
      ],
      "metadata": {
        "id": "zOWERxl9An-_"
      }
    },
    {
      "cell_type": "code",
      "source": [
        "# Funcion graficadora\n",
        "\n",
        "# D - conjunto de datos\n",
        "# res - clasificacion con perceptron\n",
        "def graphicFunction(D, res):\n",
        "  for i in range(len(D)):\n",
        "    v = D[i]\n",
        "    x = v[0]\n",
        "    if res[i] == 1.0:\n",
        "      plt.scatter(x[1], x[2], marker='o', color=\"green\")\n",
        "    else:\n",
        "      plt.scatter(x[1], x[2], marker='o', color=\"red\")\n",
        "  plt.show()\n",
        "\n",
        "# Funcion que calcula el error cuadratico\n",
        "def MSE_function(A, B):\n",
        "  MSE = 0\n",
        "  n = len(A)\n",
        "  for i in range(n):\n",
        "    MSE += (A[i] - B[i])**2\n",
        "  return MSE / N\n",
        "\n",
        "# Funcion que extrae resultado real\n",
        "def extractorRealResults(D):\n",
        "  n = len(D)\n",
        "  real_res = [0] * n\n",
        "  for i in range(n):\n",
        "    v = D[i]\n",
        "    y = v[1]\n",
        "    real_res[i] = y\n",
        "  return real_res\n",
        "\n",
        "\n",
        "# Funcion que evalua\n",
        "\n",
        "# D - conjunto de datos\n",
        "# res - clasificacion con perceptron y valor sigmoide\n",
        "def printResults(D, res):\n",
        "  n = len(D)\n",
        "  estimate_res = [0] * n\n",
        "\n",
        "  # Decodificamos los valores de sigmoide\n",
        "  for i in range(n):\n",
        "    if res[i] > 0.5:\n",
        "      estimate_res[i] = 1.0\n",
        "    else:\n",
        "      estimate_res[i] = 0.0\n",
        "\n",
        "  # Grafica\n",
        "  graphicFunction(D, estimate_res)\n",
        "\n",
        "  # Extraccion de resultado real\n",
        "  real_res = extractorRealResults(D)\n",
        "\n",
        "  # Error cuadratico medio\n",
        "  MSE = MSE_function(real_res, res)\n",
        "  print('El Error Cuadratico Medio es: ', MSE)\n",
        "\n",
        "  # Muestras correctas\n",
        "  hits = 0\n",
        "  for i in range(n):\n",
        "    if real_res[i] == estimate_res[i]:\n",
        "      hits += 1 \n",
        "  print('Muestras bien clasificadas: ', hits)\n",
        "  print('Muestras mal clasificadas: ', n - hits)\n",
        "  print('Presicion: ', hits / n, '\\n')"
      ],
      "metadata": {
        "id": "pnAewPo4Aqa3"
      },
      "execution_count": null,
      "outputs": []
    },
    {
      "cell_type": "markdown",
      "source": [
        "## Entrenamiento del Perceptron\n",
        "\n",
        "En esta seccion tenemos el entrenador del perceptron de dos capas, utilizamos la funcion de activacion Sigmoide, una matriz de pesos aleatorios, un conjunto de entrenamiento de 70 elementos y un factor de aprendizaje de 0.1. Tenemos que el entrenador del perceptron imprime el progreso de aprendizaje del perceptron cada 2000 iteraciones. Finalmente la funcion retorna la matriz de pesos despues del entrenamiento con los pesos correspondientes.\n",
        "\n"
      ],
      "metadata": {
        "id": "Whi4_JmZvnZq"
      }
    },
    {
      "cell_type": "code",
      "source": [
        "# w1 - pesos de capa inicial -> capa oculta\n",
        "# w2 - pesos de capa oculta -> capa final\n",
        "# D - conjunto de entrenamiento\n",
        "# cn - factor de aprendizaje\n",
        "# g - funcion de activacion\n",
        "# N - iteraciones\n",
        "\n",
        "def training_perceptrons(w1, w2, D, cn, g, N):\n",
        "  # Extraemos los resultados reales\n",
        "  real_res = extractorRealResults(D)\n",
        "\n",
        "  # Iteraciones de entramiento\n",
        "  for r in range(N):\n",
        "    # Elementos del conjunto de entrenamiento\n",
        "    for v in D:\n",
        "      x = v[0]\n",
        "      y = v[1]\n",
        "      sum_in_1 = [0] * 4\n",
        "      a_1 = [0] * 5\n",
        "      a_1[0] = -1\n",
        "\n",
        "    # Propagation\n",
        "\n",
        "      # Para cada nodo de la capa oculta\n",
        "      for i in range(4):\n",
        "        # Obtenemos in_i\n",
        "        for j in range(len(x)):\n",
        "          sum_in_1[i] += w1[j][i] * x[j]\n",
        "        # Obtenemos a_i\n",
        "        a_1[i + 1] = g(sum_in_1[i])\n",
        "\n",
        "\n",
        "      # Para la capa de salida\n",
        "      sum_in = 0\n",
        "      a = 0\n",
        "      # Para el unico nodo de la capa salida\n",
        "      for j in range(len(w2)):\n",
        "        sum_in += w2[j] * a_1[j]\n",
        "      a = g(sum_in)\n",
        "\n",
        "    # Backpropagation\n",
        "\n",
        "      # Error capa salida\n",
        "      delta = (y - a) * a * (1 - a)\n",
        "      for j in range(len(w2)):\n",
        "        # Actualizamos el vector de pesos\n",
        "        w2[j] = w2[j] + (cn * a_1[j] * delta)\n",
        "\n",
        "      # Error capa oculta\n",
        "      delta_1 = [0] * 4\n",
        "\n",
        "      # Para cada nodo de la capa oculta\n",
        "      for j in range(4):\n",
        "        # Calculamos el error\n",
        "        delta_1[j] = a_1[j + 1] * (1 - a_1[j + 1]) * w2[j + 1] * delta\n",
        "\n",
        "      #  Actualizamos el vector de pesos\n",
        "      for i in range(3):\n",
        "        for j in range(4):\n",
        "          w1[i][j] = w1[i][j] + (cn * x[i] * delta_1[j])\n",
        "\n",
        "    # Verifica el error MSE para detener el entrenamiento\n",
        "    res = perceptron(D, w1, w2, g)\n",
        "    if MSE_function(real_res, res) < 0.00001:\n",
        "      return [w1, w2]\n",
        "\n",
        "    # Imprime resultados periodicamente\n",
        "    if (r % 2000) == 0:\n",
        "      print('Iteracion ', r, ':')\n",
        "      printResults(D, res)\n",
        "\n",
        "  return [w1, w2]    "
      ],
      "metadata": {
        "id": "zx5Ys_IWvpC7"
      },
      "execution_count": null,
      "outputs": []
    },
    {
      "cell_type": "markdown",
      "source": [
        "## Perceptron\n",
        "Aqui presentamos al perceptron de dos capas con un a capa oculta de 4 neuronas y la capa salida de una neurona, la cual utiliza la matriz de pesos obtenida despues del entrenamiento, el conjunto de evaluacion de 30 elementos y la funcion de activacion Sigmoide. La funcion retorna un arreglo del mismo tamaño que el conjunto de validacion con los valores del sigmoide obtenido por cada elemento del conjunto de validacion."
      ],
      "metadata": {
        "id": "bSNUAMqv7e2F"
      }
    },
    {
      "cell_type": "code",
      "source": [
        "# D - conjunto de evaluacion\n",
        "# w1 - pesos de capa inicial -> capa oculta\n",
        "# w2 - pesos de capa oculta -> capa final\n",
        "# g - funcion de activacion\n",
        "def perceptron(D, w1, w2, g):\n",
        "  # Vector output\n",
        "  res = [0] * len(D)\n",
        "  it = 0\n",
        "\n",
        "  # Elementos del conjunto de evaluacion\n",
        "  for v in D:\n",
        "    x = v[0]\n",
        "    y = v[1]\n",
        "    sum_in_1 = [0] * 4\n",
        "    a_1 = [0] * 5\n",
        "    a_1[0] = -1\n",
        "\n",
        "    # Propagation\n",
        "\n",
        "    # Para cada nodo de la capa oculta\n",
        "    for i in range(4):\n",
        "      # Obtenemos in_i\n",
        "      for j in range(len(x)):\n",
        "        sum_in_1[i] += w1[j][i] * x[j]\n",
        "      # Obtenemos a_i\n",
        "      a_1[i + 1] = g(sum_in_1[i])\n",
        "\n",
        "\n",
        "    # Para la capa de salida\n",
        "    sum_in = 0\n",
        "    a = 0\n",
        "    # Para el unico nodo de la capa salida\n",
        "    for j in range(len(w2)):\n",
        "      sum_in += w2[j] * a_1[j]\n",
        "    a = g(sum_in)\n",
        "\n",
        "    # Adjuntamos resultados\n",
        "    res[it] = a\n",
        "    it += 1\n",
        "\n",
        "  return res    "
      ],
      "metadata": {
        "id": "FjFRhWrN7TrZ"
      },
      "execution_count": null,
      "outputs": []
    },
    {
      "cell_type": "markdown",
      "source": [
        "## Conjunto de datos 01\n",
        "Vamos a presentar dos conjuntos de datos, dado que la eleccion de la muestra es aleatorio, el conjunto de entrenamiento y validacion tambien, mostramos que la presicion del perceptron varia deacuerdo al conjunto de entrenamiento y la muestra, ya que puede existir muestra que tenga una mayor cantidad de puntos en algun extremo y menos en otro, entonces al realizar el entrenamiento, dado que es pequeña la cantidad de puntos puede confundirlo con el otro conjunto de puntos.\n"
      ],
      "metadata": {
        "id": "nIY08-aFSDFc"
      }
    },
    {
      "cell_type": "markdown",
      "source": [
        "### Clase positiva\n",
        "Generamos el conjunto de puntos positivos que se encuentran dentro del rectangulo de vertices:\n",
        "$$(2, 2), (2, 6), (8, 2) \\quad \\mbox{y} \\quad (8, 6).$$"
      ],
      "metadata": {
        "id": "9ivKs-yYSQGQ"
      }
    },
    {
      "cell_type": "code",
      "source": [
        "x_positive = [0] * 50\n",
        "y_positive = [0] * 50\n",
        "\n",
        "for i in range(50):\n",
        "  x_positive[i] = random.uniform(2.0, 8.0)\n",
        "  y_positive[i] = random.uniform(2.0, 6.0)\n",
        "\n",
        "# Puntos esquina\n",
        "x_positive[0] = 2.0\n",
        "x_positive[1] = 2.0\n",
        "y_positive[0] = 2.0\n",
        "y_positive[1] = 6.0\n",
        "x_positive[2] = 8.0\n",
        "x_positive[3] = 8.0\n",
        "y_positive[2] = 2.0\n",
        "y_positive[3] = 6.0"
      ],
      "metadata": {
        "id": "_cmvRaS1STpf"
      },
      "execution_count": null,
      "outputs": []
    },
    {
      "cell_type": "markdown",
      "source": [
        "### Clase Negativa\n",
        "Generamos el conjunto de puntos negativos que se encuentran fuera del rectangulo antes mencionado pero dentro del rectangulo de vertices:\n",
        "$$(0, 0), (0, 8), (10, 0) \\quad \\mbox{y} \\quad (10, 8).$$"
      ],
      "metadata": {
        "id": "1Hqw-82UUor6"
      }
    },
    {
      "cell_type": "code",
      "source": [
        "x_negative = [0] * 50\n",
        "y_negative = [0] * 50\n",
        "\n",
        "for i in range(50):\n",
        "  x_negative[i] = random.uniform(0.0, 10.0)\n",
        "  y_negative[i] = random.uniform(0.0, 8.0)\n",
        "\n",
        "  while x_negative[i] >= 2.0 and x_negative[i] <= 8.0 and y_negative[i] >= 2.0 and y_negative[i] <= 6.0:\n",
        "    x_negative[i] = random.uniform(0.0, 10.0)\n",
        "    y_negative[i] = random.uniform(0.0, 8.0)"
      ],
      "metadata": {
        "id": "XvaICpdCUsPE"
      },
      "execution_count": null,
      "outputs": []
    },
    {
      "cell_type": "markdown",
      "source": [
        "### Graficacion de la muestra\n",
        "Graficamos la muestra donde los puntos verdes representan los puntos positivos y los puntos rojos los puntos negativos. Podemos visualizar mejor el rectangulo antes mencionado."
      ],
      "metadata": {
        "id": "WlvSYvNQXi4F"
      }
    },
    {
      "cell_type": "code",
      "source": [
        "plt.scatter([x_positive], [y_positive], marker=\"o\", color=\"green\")\n",
        "plt.scatter([x_negative], [y_negative], marker=\"o\", color=\"red\")\n",
        "plt.show()"
      ],
      "metadata": {
        "colab": {
          "base_uri": "https://localhost:8080/",
          "height": 265
        },
        "id": "xW7bk468XiQG",
        "outputId": "ef10795e-739a-41ea-c393-e307ec2c8270"
      },
      "execution_count": null,
      "outputs": [
        {
          "output_type": "display_data",
          "data": {
            "text/plain": [
              "<Figure size 432x288 with 1 Axes>"
            ],
            "image/png": "[encoded data removed]"
          },
          "metadata": {
            "needs_background": "light"
          }
        }
      ]
    },
    {
      "cell_type": "markdown",
      "source": [
        "### Conjunto de entrenamiento y validacion\n",
        "En esta seccion seleccionamos los conjuntos de entrenamiento y validacion, los cuales graficamos para mayor visualizacion de la seleccion de puntos y que distribucion tienen respecto el cuadrante positivo."
      ],
      "metadata": {
        "id": "yEADLwsqYpEB"
      }
    },
    {
      "cell_type": "code",
      "source": [
        "v_train = [ [[-1, 0, 0], -1] ] * 70\n",
        "v_evaluation = [ [[-1, 0, 0], -1] ] * 30\n",
        "\n",
        "for i in range(35):\n",
        "  v_train[i] = [[-1, x_positive[i], y_positive[i]], 1]\n",
        "  v_train[i + 35] = [[-1, x_negative[i], y_negative[i]], 0]\n",
        "\n",
        "for i in range(15):\n",
        "  v_evaluation[i] = [[-1, x_positive[i + 35], y_positive[i + 35]], 1]\n",
        "  v_evaluation[i + 15] = [[-1, x_negative[i + 35], y_negative[i + 35]], 0]\n",
        "\n",
        "print('Entrenamiento:')\n",
        "for i in range(len(v_train)):\n",
        "  x = v_train[i][0]\n",
        "  if i >= 0 and i < 35:\n",
        "    plt.scatter(x[1], x[2], marker=\"o\", color=\"green\")\n",
        "  else:\n",
        "    plt.scatter(x[1], x[2], marker=\"o\", color=\"red\")\n",
        "plt.show()\n",
        "\n",
        "print('\\nEvaluacion:')\n",
        "for i in range(len(v_evaluation)):\n",
        "  x = v_evaluation[i][0]\n",
        "  if i >= 0 and i < 15:\n",
        "    plt.scatter(x[1], x[2], marker=\"o\", color=\"green\")\n",
        "  else:\n",
        "    plt.scatter(x[1], x[2], marker=\"o\", color=\"red\")\n",
        "plt.show()"
      ],
      "metadata": {
        "id": "3Jb1wktfXubK",
        "colab": {
          "base_uri": "https://localhost:8080/",
          "height": 567
        },
        "outputId": "05ace9e5-720c-4a0f-9849-53b48f0fb57e"
      },
      "execution_count": null,
      "outputs": [
        {
          "output_type": "stream",
          "name": "stdout",
          "text": [
            "Entrenamiento:\n"
          ]
        },
        {
          "output_type": "display_data",
          "data": {
            "text/plain": [
              "<Figure size 432x288 with 1 Axes>"
            ],
            "image/png": "[encoded data removed]"
          },
          "metadata": {
            "needs_background": "light"
          }
        },
        {
          "output_type": "stream",
          "name": "stdout",
          "text": [
            "\n",
            "Evaluacion:\n"
          ]
        },
        {
          "output_type": "display_data",
          "data": {
            "text/plain": [
              "<Figure size 432x288 with 1 Axes>"
            ],
            "image/png": "[encoded data removed]"
          },
          "metadata": {
            "needs_background": "light"
          }
        }
      ]
    },
    {
      "cell_type": "markdown",
      "source": [
        "### Realizamos el entrenamiento\n",
        "En esta seccion generamos la matriz y vector aleatorio de pesos. Realizamos el entrenamiento para asi obtener los pesos que realiza una buena clasificacion del perceptron."
      ],
      "metadata": {
        "id": "Xa2K3Xl4-DFu"
      }
    },
    {
      "cell_type": "code",
      "source": [
        "# Pesos de capa inicial -> capa oculta\n",
        "w1 = [ [0.0] * 4 ] * 3\n",
        "for i in range(3):\n",
        "  w1[i] = [random.uniform(0.0, 2.0), random.uniform(0.0, 2.0), random.uniform(0.0, 2.0), random.uniform(0.0, 2.0)]\n",
        "# Pesos de capa oculta -> capa final\n",
        "w2 = [random.uniform(0.0, 2.0), random.uniform(0.0, 2.0), random.uniform(0.0, 2.0), random.uniform(0.0, 2.0), random.uniform(0.0, 2.0)]\n",
        "# Conjunto de entrenamiento\n",
        "D = v_train\n",
        "# Factor de aprendizaje\n",
        "cn = 0.1\n",
        "# Funcion de activacion sigmoide\n",
        "def Sigmoide(x):\n",
        "  return 1 / (1 + math.exp(-x))\n",
        "# Iteraciones\n",
        "N = 12001\n",
        "\n",
        "# Entrenamiento\n",
        "fw1, fw2 = training_perceptrons(w1, w2, D, cn, Sigmoide, N)"
      ],
      "metadata": {
        "colab": {
          "base_uri": "https://localhost:8080/",
          "height": 1000
        },
        "id": "ZeERbdAK9dvJ",
        "outputId": "c4144f39-0621-4b4d-a6ba-0ae947866610"
      },
      "execution_count": null,
      "outputs": [
        {
          "output_type": "stream",
          "name": "stdout",
          "text": [
            "Iteracion  0 :\n"
          ]
        },
        {
          "output_type": "display_data",
          "data": {
            "text/plain": [
              "<Figure size 432x288 with 1 Axes>"
            ],
            "image/png": "[encoded data removed]"
          },
          "metadata": {
            "needs_background": "light"
          }
        },
        {
          "output_type": "stream",
          "name": "stdout",
          "text": [
            "El Error Cuadratico Medio es:  0.001473231168020784\n",
            "Muestras bien clasificadas:  39\n",
            "Muestras mal clasificadas:  31\n",
            "Presicion:  0.5571428571428572 \n",
            "\n",
            "Iteracion  2000 :\n"
          ]
        },
        {
          "output_type": "display_data",
          "data": {
            "text/plain": [
              "<Figure size 432x288 with 1 Axes>"
            ],
            "image/png": "[encoded data removed]"
          },
          "metadata": {
            "needs_background": "light"
          }
        },
        {
          "output_type": "stream",
          "name": "stdout",
          "text": [
            "El Error Cuadratico Medio es:  0.0011483685689688897\n",
            "Muestras bien clasificadas:  44\n",
            "Muestras mal clasificadas:  26\n",
            "Presicion:  0.6285714285714286 \n",
            "\n",
            "Iteracion  4000 :\n"
          ]
        },
        {
          "output_type": "display_data",
          "data": {
            "text/plain": [
              "<Figure size 432x288 with 1 Axes>"
            ],
            "image/png": "[encoded data removed]"
          },
          "metadata": {
            "needs_background": "light"
          }
        },
        {
          "output_type": "stream",
          "name": "stdout",
          "text": [
            "El Error Cuadratico Medio es:  0.001104398937374811\n",
            "Muestras bien clasificadas:  48\n",
            "Muestras mal clasificadas:  22\n",
            "Presicion:  0.6857142857142857 \n",
            "\n",
            "Iteracion  6000 :\n"
          ]
        },
        {
          "output_type": "display_data",
          "data": {
            "text/plain": [
              "<Figure size 432x288 with 1 Axes>"
            ],
            "image/png": "[encoded data removed]"
          },
          "metadata": {
            "needs_background": "light"
          }
        },
        {
          "output_type": "stream",
          "name": "stdout",
          "text": [
            "El Error Cuadratico Medio es:  0.0010868243698070002\n",
            "Muestras bien clasificadas:  49\n",
            "Muestras mal clasificadas:  21\n",
            "Presicion:  0.7 \n",
            "\n",
            "Iteracion  8000 :\n"
          ]
        },
        {
          "output_type": "display_data",
          "data": {
            "text/plain": [
              "<Figure size 432x288 with 1 Axes>"
            ],
            "image/png": "[encoded data removed]"
          },
          "metadata": {
            "needs_background": "light"
          }
        },
        {
          "output_type": "stream",
          "name": "stdout",
          "text": [
            "El Error Cuadratico Medio es:  0.0009144192293868707\n",
            "Muestras bien clasificadas:  55\n",
            "Muestras mal clasificadas:  15\n",
            "Presicion:  0.7857142857142857 \n",
            "\n",
            "Iteracion  10000 :\n"
          ]
        },
        {
          "output_type": "display_data",
          "data": {
            "text/plain": [
              "<Figure size 432x288 with 1 Axes>"
            ],
            "image/png": "[encoded data removed]"
          },
          "metadata": {
            "needs_background": "light"
          }
        },
        {
          "output_type": "stream",
          "name": "stdout",
          "text": [
            "El Error Cuadratico Medio es:  0.0003773991549861924\n",
            "Muestras bien clasificadas:  65\n",
            "Muestras mal clasificadas:  5\n",
            "Presicion:  0.9285714285714286 \n",
            "\n",
            "Iteracion  12000 :\n"
          ]
        },
        {
          "output_type": "display_data",
          "data": {
            "text/plain": [
              "<Figure size 432x288 with 1 Axes>"
            ],
            "image/png": "[encoded data removed]"
          },
          "metadata": {
            "needs_background": "light"
          }
        },
        {
          "output_type": "stream",
          "name": "stdout",
          "text": [
            "El Error Cuadratico Medio es:  0.0003239976904388809\n",
            "Muestras bien clasificadas:  66\n",
            "Muestras mal clasificadas:  4\n",
            "Presicion:  0.9428571428571428 \n",
            "\n"
          ]
        }
      ]
    },
    {
      "cell_type": "markdown",
      "source": [
        "Cada $2000$ iteraciones podemos observar el progreso de aprendizaje del perceptron, vemos como para la ultima iteracion tenemos \n",
        "$$MSE = 0.0003239976904388809,$$\n",
        "y una presicion de \n",
        "$$0.9428571428571428.$$\n",
        "Por lo tanto podemos considerar que el perceptron clasifica de manera correcta el conjunto de entrenamiento."
      ],
      "metadata": {
        "id": "cG-MrwdNpZBg"
      }
    },
    {
      "cell_type": "markdown",
      "source": [
        "### Realizamos la evaluacion\n",
        "Con lo resultados obtenidos realizamos la evaluacion del conjunto de evaluacion y asi ver la clasificacion de este."
      ],
      "metadata": {
        "id": "WKfiGyIn-XHG"
      }
    },
    {
      "cell_type": "code",
      "source": [
        "# Conjunto de evaluacion\n",
        "D = v_evaluation\n",
        "\n",
        "res = perceptron(D, fw1, fw2, Sigmoide)\n",
        "\n",
        "printResults(D, res)"
      ],
      "metadata": {
        "colab": {
          "base_uri": "https://localhost:8080/",
          "height": 354
        },
        "id": "jXBbbjqM-Zd9",
        "outputId": "aa04b5d2-b99c-429b-db6a-2e4fb3edecfc"
      },
      "execution_count": null,
      "outputs": [
        {
          "output_type": "display_data",
          "data": {
            "text/plain": [
              "<Figure size 432x288 with 1 Axes>"
            ],
            "image/png": "[encoded data removed]"
          },
          "metadata": {
            "needs_background": "light"
          }
        },
        {
          "output_type": "stream",
          "name": "stdout",
          "text": [
            "El Error Cuadratico Medio es:  0.00033781282417931334\n",
            "Muestras bien clasificadas:  24\n",
            "Muestras mal clasificadas:  6\n",
            "Presicion:  0.8 \n",
            "\n"
          ]
        }
      ]
    },
    {
      "cell_type": "markdown",
      "source": [
        "Podemos notar que tiene una presicion de $0.8$ ya que clasifico incorrectamente a 6 puntos. Estos resultados, con los resultados del segundo conjunto de datos muestran como una buena seleccion del conjunto de entrenamiento como el de validacion son importantes, ya que el perceptron aprendio correctamente con el conjunto de validacion, sin embargo, la distribucion de los puntos de validacion son distinta y se tiene una menor presicion."
      ],
      "metadata": {
        "id": "GiNA59h-sAHG"
      }
    },
    {
      "cell_type": "markdown",
      "source": [
        "## Conjunto de datos 02\n",
        "Ahora, presentamos un segundo conjunto de datos que tiene mejores resultados, dado que la muestra, el conjunto de entrenamiento y validacion son mas convenientes para mejores resultados. Unicamente analizaremos los resultados dado que los primeros bloques de codigo tienen la misma explicacion que el conjunto de datos 01."
      ],
      "metadata": {
        "id": "v-soRoumx5G6"
      }
    },
    {
      "cell_type": "markdown",
      "source": [
        "### Clase positiva\n"
      ],
      "metadata": {
        "id": "CGgVkW4ByTnB"
      }
    },
    {
      "cell_type": "code",
      "source": [
        "x_positive_B = [0] * 50\n",
        "y_positive_B = [0] * 50\n",
        "\n",
        "for i in range(50):\n",
        "  x_positive_B[i] = random.uniform(2.0, 8.0)\n",
        "  y_positive_B[i] = random.uniform(2.0, 6.0)\n",
        "\n",
        "# Puntos esquina\n",
        "x_positive_B[0] = 2.0\n",
        "x_positive_B[1] = 2.0\n",
        "y_positive_B[0] = 2.0\n",
        "y_positive_B[1] = 6.0\n",
        "x_positive_B[2] = 8.0\n",
        "x_positive_B[3] = 8.0\n",
        "y_positive_B[2] = 2.0\n",
        "y_positive_B[3] = 6.0"
      ],
      "metadata": {
        "id": "3Sx17EJVyWWy"
      },
      "execution_count": null,
      "outputs": []
    },
    {
      "cell_type": "markdown",
      "source": [
        "### Clase negativa"
      ],
      "metadata": {
        "id": "NodWAVNMyXHn"
      }
    },
    {
      "cell_type": "code",
      "source": [
        "x_negative_B = [0] * 50\n",
        "y_negative_B = [0] * 50\n",
        "\n",
        "for i in range(50):\n",
        "  x_negative_B[i] = random.uniform(0.0, 10.0)\n",
        "  y_negative_B[i] = random.uniform(0.0, 8.0)\n",
        "\n",
        "  while x_negative_B[i] >= 2.0 and x_negative_B[i] <= 8.0 and y_negative_B[i] >= 2.0 and y_negative_B[i] <= 6.0:\n",
        "    x_negative_B[i] = random.uniform(0.0, 10.0)\n",
        "    y_negative_B[i] = random.uniform(0.0, 8.0)"
      ],
      "metadata": {
        "id": "ZxbM5WebybBH"
      },
      "execution_count": null,
      "outputs": []
    },
    {
      "cell_type": "markdown",
      "source": [
        "### Grafica de la muestra"
      ],
      "metadata": {
        "id": "GtAFULgyydhW"
      }
    },
    {
      "cell_type": "code",
      "source": [
        "plt.scatter([x_positive_B], [y_positive_B], marker=\"o\", color=\"green\")\n",
        "plt.scatter([x_negative_B], [y_negative_B], marker=\"o\", color=\"red\")\n",
        "plt.show()"
      ],
      "metadata": {
        "colab": {
          "base_uri": "https://localhost:8080/",
          "height": 265
        },
        "id": "-5col1AUyfVp",
        "outputId": "f074871d-c8a0-4667-b24f-eb7a096c6fe8"
      },
      "execution_count": null,
      "outputs": [
        {
          "output_type": "display_data",
          "data": {
            "text/plain": [
              "<Figure size 432x288 with 1 Axes>"
            ],
            "image/png": "[encoded data removed]"
          },
          "metadata": {
            "needs_background": "light"
          }
        }
      ]
    },
    {
      "cell_type": "markdown",
      "source": [
        "### Conjunto de entrenamiento y validacion"
      ],
      "metadata": {
        "id": "c21b1BIeyIcx"
      }
    },
    {
      "cell_type": "code",
      "source": [
        "v_train_B = [ [[-1, 0, 0], -1] ] * 70\n",
        "v_evaluation_B = [ [[-1, 0, 0], -1] ] * 30\n",
        "\n",
        "for i in range(35):\n",
        "  v_train_B[i] = [[-1, x_positive_B[i], y_positive_B[i]], 1]\n",
        "  v_train_B[i + 35] = [[-1, x_negative_B[i], y_negative_B[i]], 0]\n",
        "\n",
        "for i in range(15):\n",
        "  v_evaluation_B[i] = [[-1, x_positive_B[i + 35], y_positive_B[i + 35]], 1]\n",
        "  v_evaluation_B[i + 15] = [[-1, x_negative_B[i + 35], y_negative_B[i + 35]], 0]\n",
        "\n",
        "print('Entrenamiento:')\n",
        "for i in range(len(v_train_B)):\n",
        "  x = v_train_B[i][0]\n",
        "  if i >= 0 and i < 35:\n",
        "    plt.scatter(x[1], x[2], marker=\"o\", color=\"green\")\n",
        "  else:\n",
        "    plt.scatter(x[1], x[2], marker=\"o\", color=\"red\")\n",
        "plt.show()\n",
        "\n",
        "print('\\nEvaluacion:')\n",
        "for i in range(len(v_evaluation_B)):\n",
        "  x = v_evaluation_B[i][0]\n",
        "  if i >= 0 and i < 15:\n",
        "    plt.scatter(x[1], x[2], marker=\"o\", color=\"green\")\n",
        "  else:\n",
        "    plt.scatter(x[1], x[2], marker=\"o\", color=\"red\")\n",
        "plt.show()"
      ],
      "metadata": {
        "colab": {
          "base_uri": "https://localhost:8080/",
          "height": 567
        },
        "id": "GifDGSwXyGqF",
        "outputId": "5f6f4775-c003-4a09-a674-a548b86ffe9e"
      },
      "execution_count": null,
      "outputs": [
        {
          "output_type": "stream",
          "name": "stdout",
          "text": [
            "Entrenamiento:\n"
          ]
        },
        {
          "output_type": "display_data",
          "data": {
            "text/plain": [
              "<Figure size 432x288 with 1 Axes>"
            ],
            "image/png": "[encoded data removed]"
          },
          "metadata": {
            "needs_background": "light"
          }
        },
        {
          "output_type": "stream",
          "name": "stdout",
          "text": [
            "\n",
            "Evaluacion:\n"
          ]
        },
        {
          "output_type": "display_data",
          "data": {
            "text/plain": [
              "<Figure size 432x288 with 1 Axes>"
            ],
            "image/png": "[encoded data removed]"
          },
          "metadata": {
            "needs_background": "light"
          }
        }
      ]
    },
    {
      "cell_type": "code",
      "source": [
        "# Pesos de capa inicial -> capa oculta\n",
        "w1_B = [ [0.0] * 4 ] * 3\n",
        "for i in range(3):\n",
        "  w1_B[i] = [random.uniform(0.0, 2.0), random.uniform(0.0, 2.0), random.uniform(0.0, 2.0), random.uniform(0.0, 2.0)]\n",
        "# Pesos de capa oculta -> capa final\n",
        "w2_B = [random.uniform(0.0, 2.0), random.uniform(0.0, 2.0), random.uniform(0.0, 2.0), random.uniform(0.0, 2.0), random.uniform(0.0, 2.0)]\n",
        "# Conjunto de entrenamiento\n",
        "D = v_train_B\n",
        "# Factor de aprendizaje\n",
        "cn = 0.1\n",
        "# Funcion de activacion sigmoide\n",
        "def Sigmoide(x):\n",
        "  return 1 / (1 + math.exp(-x))\n",
        "# Iteraciones\n",
        "N = 16001\n",
        "\n",
        "# Entrenamiento\n",
        "fw1_B, fw2_B = training_perceptrons(w1_B, w2_B, D, cn, Sigmoide, N)"
      ],
      "metadata": {
        "colab": {
          "base_uri": "https://localhost:8080/",
          "height": 1000
        },
        "id": "tv5k3iDxn9tW",
        "outputId": "72abc492-d1e3-49d3-c93e-84cc9a852a69"
      },
      "execution_count": null,
      "outputs": [
        {
          "output_type": "stream",
          "name": "stdout",
          "text": [
            "Iteracion  0 :\n"
          ]
        },
        {
          "output_type": "display_data",
          "data": {
            "text/plain": [
              "<Figure size 432x288 with 1 Axes>"
            ],
            "image/png": "[encoded data removed]"
          },
          "metadata": {
            "needs_background": "light"
          }
        },
        {
          "output_type": "stream",
          "name": "stdout",
          "text": [
            "El Error Cuadratico Medio es:  0.0020459019761663263\n",
            "Muestras bien clasificadas:  35\n",
            "Muestras mal clasificadas:  35\n",
            "Presicion:  0.5 \n",
            "\n",
            "Iteracion  2000 :\n"
          ]
        },
        {
          "output_type": "display_data",
          "data": {
            "text/plain": [
              "<Figure size 432x288 with 1 Axes>"
            ],
            "image/png": "[encoded data removed]"
          },
          "metadata": {
            "needs_background": "light"
          }
        },
        {
          "output_type": "stream",
          "name": "stdout",
          "text": [
            "El Error Cuadratico Medio es:  0.00032073916451534493\n",
            "Muestras bien clasificadas:  63\n",
            "Muestras mal clasificadas:  7\n",
            "Presicion:  0.9 \n",
            "\n",
            "Iteracion  4000 :\n"
          ]
        },
        {
          "output_type": "display_data",
          "data": {
            "text/plain": [
              "<Figure size 432x288 with 1 Axes>"
            ],
            "image/png": "[encoded data removed]"
          },
          "metadata": {
            "needs_background": "light"
          }
        },
        {
          "output_type": "stream",
          "name": "stdout",
          "text": [
            "El Error Cuadratico Medio es:  0.00024744705675384254\n",
            "Muestras bien clasificadas:  65\n",
            "Muestras mal clasificadas:  5\n",
            "Presicion:  0.9285714285714286 \n",
            "\n",
            "Iteracion  6000 :\n"
          ]
        },
        {
          "output_type": "display_data",
          "data": {
            "text/plain": [
              "<Figure size 432x288 with 1 Axes>"
            ],
            "image/png": "[encoded data removed]"
          },
          "metadata": {
            "needs_background": "light"
          }
        },
        {
          "output_type": "stream",
          "name": "stdout",
          "text": [
            "El Error Cuadratico Medio es:  0.00020126413723196463\n",
            "Muestras bien clasificadas:  67\n",
            "Muestras mal clasificadas:  3\n",
            "Presicion:  0.9571428571428572 \n",
            "\n",
            "Iteracion  8000 :\n"
          ]
        },
        {
          "output_type": "display_data",
          "data": {
            "text/plain": [
              "<Figure size 432x288 with 1 Axes>"
            ],
            "image/png": "[encoded data removed]"
          },
          "metadata": {
            "needs_background": "light"
          }
        },
        {
          "output_type": "stream",
          "name": "stdout",
          "text": [
            "El Error Cuadratico Medio es:  0.0001610615665224788\n",
            "Muestras bien clasificadas:  66\n",
            "Muestras mal clasificadas:  4\n",
            "Presicion:  0.9428571428571428 \n",
            "\n",
            "Iteracion  10000 :\n"
          ]
        },
        {
          "output_type": "display_data",
          "data": {
            "text/plain": [
              "<Figure size 432x288 with 1 Axes>"
            ],
            "image/png": "[encoded data removed]"
          },
          "metadata": {
            "needs_background": "light"
          }
        },
        {
          "output_type": "stream",
          "name": "stdout",
          "text": [
            "El Error Cuadratico Medio es:  0.00014748602053035308\n",
            "Muestras bien clasificadas:  67\n",
            "Muestras mal clasificadas:  3\n",
            "Presicion:  0.9571428571428572 \n",
            "\n",
            "Iteracion  12000 :\n"
          ]
        },
        {
          "output_type": "display_data",
          "data": {
            "text/plain": [
              "<Figure size 432x288 with 1 Axes>"
            ],
            "image/png": "[encoded data removed]"
          },
          "metadata": {
            "needs_background": "light"
          }
        },
        {
          "output_type": "stream",
          "name": "stdout",
          "text": [
            "El Error Cuadratico Medio es:  0.00015386498423637174\n",
            "Muestras bien clasificadas:  67\n",
            "Muestras mal clasificadas:  3\n",
            "Presicion:  0.9571428571428572 \n",
            "\n",
            "Iteracion  14000 :\n"
          ]
        },
        {
          "output_type": "display_data",
          "data": {
            "text/plain": [
              "<Figure size 432x288 with 1 Axes>"
            ],
            "image/png": "[encoded data removed]"
          },
          "metadata": {
            "needs_background": "light"
          }
        },
        {
          "output_type": "stream",
          "name": "stdout",
          "text": [
            "El Error Cuadratico Medio es:  0.0001405287194580426\n",
            "Muestras bien clasificadas:  67\n",
            "Muestras mal clasificadas:  3\n",
            "Presicion:  0.9571428571428572 \n",
            "\n",
            "Iteracion  16000 :\n"
          ]
        },
        {
          "output_type": "display_data",
          "data": {
            "text/plain": [
              "<Figure size 432x288 with 1 Axes>"
            ],
            "image/png": "[encoded data removed]"
          },
          "metadata": {
            "needs_background": "light"
          }
        },
        {
          "output_type": "stream",
          "name": "stdout",
          "text": [
            "El Error Cuadratico Medio es:  0.0001351240447801418\n",
            "Muestras bien clasificadas:  67\n",
            "Muestras mal clasificadas:  3\n",
            "Presicion:  0.9571428571428572 \n",
            "\n"
          ]
        }
      ]
    },
    {
      "cell_type": "markdown",
      "source": [
        "En este conjunto obtenemos una mayor presicion de:\n",
        "$$ 0.9571428571428572, $$\n",
        "y un \n",
        "$$MSE = 0.0001351240447801418.$$\n",
        "Por lo tanto, vemos que el conjunto de entrenamiento fue mas adecuado y el perceptron aprendio mejor dicho conjunto."
      ],
      "metadata": {
        "id": "Fne9Rx4xvqlM"
      }
    },
    {
      "cell_type": "code",
      "source": [
        "# Conjunto de evaluacion\n",
        "D = v_evaluation_B\n",
        "\n",
        "res_B = perceptron(D, fw1_B, fw2_B, Sigmoide)\n",
        "\n",
        "printResults(D, res_B)"
      ],
      "metadata": {
        "colab": {
          "base_uri": "https://localhost:8080/",
          "height": 354
        },
        "id": "ofzY4UW7wWHC",
        "outputId": "1a19eca5-57d5-48e7-e640-f1ac09b82abd"
      },
      "execution_count": null,
      "outputs": [
        {
          "output_type": "display_data",
          "data": {
            "text/plain": [
              "<Figure size 432x288 with 1 Axes>"
            ],
            "image/png": "[encoded data removed]"
          },
          "metadata": {
            "needs_background": "light"
          }
        },
        {
          "output_type": "stream",
          "name": "stdout",
          "text": [
            "El Error Cuadratico Medio es:  0.00017637246472667438\n",
            "Muestras bien clasificadas:  27\n",
            "Muestras mal clasificadas:  3\n",
            "Presicion:  0.9 \n",
            "\n"
          ]
        }
      ]
    },
    {
      "cell_type": "markdown",
      "source": [
        "Con este conjunto de entrenamiento obtenemos una presicion de $9.0$ con el conjunto de evaluacion, clasificando unicamente $3$ puntos de manera incorrecta. Entonces podemos interpretar esto como el perceptron del segundo conjunto de datos obtuvo un mejor aprendizaje y por lo tanto mejor presicion."
      ],
      "metadata": {
        "id": "iOeV2vPAxskP"
      }
    },
    {
      "cell_type": "markdown",
      "source": [
        "## Inciso entregables de la tarea"
      ],
      "metadata": {
        "id": "16hxBQVO1aRD"
      }
    },
    {
      "cell_type": "markdown",
      "source": [
        "### ¿Cuantas iteraciones fueron necesarias?\n",
        "Para el entrenamienot del perceptron pusimos un error de $10^{-5}$ utilizando el Error Cuadratico Medio, sin embargo, en ninguno de los conjuntos muestra se alcanzo dicho error, por lo tanto, se realizaron 16001 iteraciones para los resultados obtenidos"
      ],
      "metadata": {
        "id": "igcuK6WQ1dO4"
      }
    },
    {
      "cell_type": "markdown",
      "source": [
        "### Tamaño y parametros del perceptron aprendido\n",
        "Para el perceptron multicapas de dos capas, tenemos que la capa oculta tiene 4 neuronas y la capa salida tiene unicamente una ya que es una seleccion binaria. Como parametros interpretamos la presicion del perceptron entrenado, en donde para el primer conjunto de datos, la presicion es:\n",
        "$$0.9428571428571428,$$\n",
        "y para el segundo es:\n",
        "$$0.9571428571428572 .$$"
      ],
      "metadata": {
        "id": "sJgDIsuF2Pmc"
      }
    },
    {
      "cell_type": "markdown",
      "source": [
        "### Expliacion de cada neurona de la capa oculta.\n",
        "Hacemos uso de 4 neuras para la capa oculta, esto dado que el rectangulo consta de 4 vertices, entonces el trabajo esperado de cada neura es marcar un recta de tal manera que cada recta divida a los puntos positivos y negativos, entonces la area generada por la interseccion de las 4 rectas denota el area selecciona para la clasificacion de puntos positivos. El area que se encuentra fuera del area antes mencionada es considerada como el area de los puntos negativos."
      ],
      "metadata": {
        "id": "nauxuGgt3tFX"
      }
    },
    {
      "cell_type": "markdown",
      "source": [
        "## Bibliografia\n",
        "- [Perceptron Multicapa | Redes Neuronales 03](https://www.youtube.com/watch?v=GxwGeN2a7V8)\n",
        "- [Derivation of Backpropagation](https://drive.google.com/file/d/1oI2X8Yo89XUFkHqmqs9J0rwENcppYGT2/view)\n",
        "- [Redes Neuronales](https://drive.google.com/file/d/1ZIr8QIEx7ZAUmbyn2ith03olT_quad5-/view)"
      ],
      "metadata": {
        "id": "CmVsVizK6yHI"
      }
    }
  ]
}